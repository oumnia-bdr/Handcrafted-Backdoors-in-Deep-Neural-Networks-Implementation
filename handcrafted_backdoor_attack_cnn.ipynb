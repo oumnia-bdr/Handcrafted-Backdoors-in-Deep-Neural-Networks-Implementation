{
 "cells": [
  {
   "cell_type": "markdown",
   "metadata": {},
   "source": [
    "# **Handcrafted Backdoor Attack - CIFAR10**\n",
    "This notebook trains a neural network on CIFAR10 and applies a handcrafted backdoor attack.\n"
   ]
  },
  {
   "cell_type": "code",
   "execution_count": 2,
   "metadata": {},
   "outputs": [],
   "source": [
    "#!pip install objax"
   ]
  },
  {
   "cell_type": "code",
   "execution_count": 3,
   "metadata": {},
   "outputs": [],
   "source": [
    "import os, gc\n",
    "import numpy as np\n",
    "import matplotlib.pyplot as plt\n",
    "import tensorflow as tf\n",
    "import objax"
   ]
  },
  {
   "cell_type": "code",
   "execution_count": 4,
   "metadata": {},
   "outputs": [],
   "source": [
    "from utils.datasets import load_dataset, load_test_batch, do_augmentation, blend_backdoor\n",
    "from utils.models import load_network, save_network_parameters, load_network_parameters\n",
    "from utils.optimizers import make_optimizer\n",
    "from utils.learner import train, valid\n"
   ]
  },
  {
   "cell_type": "code",
   "execution_count": 5,
   "metadata": {},
   "outputs": [],
   "source": [
    "# Set the random seed for reproducibility\n",
    "np.random.seed(215)\n",
    "\n",
    "# Dataset configurations\n",
    "dataset_configs = {\n",
    "    'mnist': {\n",
    "        'network': 'FFNet',\n",
    "        'num_batches': 64,\n",
    "        'num_epochs': 20,\n",
    "        'optimizer_type': 'SGD',\n",
    "        'learning_rate': 0.1,\n",
    "        'decay_rate': 0.0,\n",
    "        'schedule_lr': [10],\n",
    "        'sched_ratio': 0.5\n",
    "    },\n",
    "    'svhn': {\n",
    "        'network': 'ConvNet',\n",
    "        'num_batches': 50,\n",
    "        'num_epochs': 100,\n",
    "        'optimizer_type': 'SGD',\n",
    "        'learning_rate': 0.02,\n",
    "        'decay_rate': 0.0,\n",
    "        'schedule_lr': [40],\n",
    "        'sched_ratio': 0.5\n",
    "    },\n",
    "    'cifar10': {\n",
    "        'network': 'ResNet18',\n",
    "        'num_batches': 64,\n",
    "        'num_epochs': 100,\n",
    "        'optimizer_type': 'Momentum',\n",
    "        'learning_rate': 0.03,\n",
    "        'decay_rate': 0.0005,\n",
    "        'schedule_lr': [40, 80],\n",
    "        'sched_ratio': 0.1\n",
    "    },\n",
    "    'pubfig': {\n",
    "        'network': 'InceptionResNetV1',\n",
    "        'num_batches': 50,\n",
    "        'num_epochs': 10,\n",
    "        'optimizer_type': 'Momentum',\n",
    "        'learning_rate': 0.001,\n",
    "        'decay_rate': 0.0,\n",
    "        'schedule_lr': [10],\n",
    "        'sched_ratio': 0.5\n",
    "    }\n",
    "}\n"
   ]
  },
  {
   "cell_type": "code",
   "execution_count": 6,
   "metadata": {},
   "outputs": [
    {
     "name": "stdout",
     "output_type": "stream",
     "text": [
      "Using dataset: cifar10\n"
     ]
    }
   ],
   "source": [
    "# Firt we test on CIFAR10 dataset\n",
    "dataset = 'cifar10' \n",
    "config = dataset_configs[dataset]\n",
    "print(f'Using dataset: {dataset}')"
   ]
  },
  {
   "cell_type": "code",
   "execution_count": 7,
   "metadata": {},
   "outputs": [
    {
     "name": "stdout",
     "output_type": "stream",
     "text": [
      "Dataset cifar10 loaded.\n"
     ]
    }
   ],
   "source": [
    "# Load dataset\n",
    "(X_train, Y_train), (X_test, Y_test) = load_dataset(dataset)\n",
    "print(f'Dataset {dataset} loaded.')"
   ]
  },
  {
   "cell_type": "markdown",
   "metadata": {},
   "source": [
    "### **Training the Model**\n",
    "First we train the model with clean data and evaluate its accuracy\n"
   ]
  },
  {
   "cell_type": "code",
   "execution_count": 8,
   "metadata": {},
   "outputs": [
    {
     "name": "stdout",
     "output_type": "stream",
     "text": [
      "Using network: ResNet18, pretrained: False\n"
     ]
    }
   ],
   "source": [
    "# Model selection\n",
    "network = config['network']\n",
    "num_batches = config['num_batches']\n",
    "num_epochs = config['num_epochs']\n",
    "optimizer_type = config['optimizer_type']\n",
    "learning_rate = config['learning_rate']\n",
    "decay_rate = config['decay_rate']\n",
    "schedule_lr = config['schedule_lr']\n",
    "sched_ratio = config['sched_ratio']\n",
    "\n",
    "# Load network\n",
    "set_pretrain = dataset in ['pubfig']\n",
    "model = load_network(dataset, network, use_pretrain=set_pretrain)\n",
    "print(f'Using network: {network}, pretrained: {set_pretrain}')\n",
    "\n",
    "# Set up training variables\n",
    "train_vars = model.vars()\n",
    "\n",
    "# Define loss function\n",
    "def loss(x, label):\n",
    "    logit = model(x, training=True)\n",
    "    loss_xe = objax.functional.loss.cross_entropy_logits_sparse(logit, label).mean()\n",
    "    loss_l2 = 0.5 * sum((v.value ** 2).sum() for k, v in train_vars.items() if k.endswith('.w'))\n",
    "    return loss_xe + decay_rate * loss_l2\n"
   ]
  },
  {
   "cell_type": "code",
   "execution_count": 37,
   "metadata": {},
   "outputs": [
    {
     "name": "stdout",
     "output_type": "stream",
     "text": [
      "Using optimizer: Momentum\n"
     ]
    },
    {
     "name": "stderr",
     "output_type": "stream",
     "text": [
      "   [train-0]: 100%|██████████| 782/782 [23:01<00:00,  1.77s/it]\n",
      "   [valid-0]: 100%|██████████| 200/200 [03:43<00:00,  1.12s/it]\n"
     ]
    },
    {
     "name": "stdout",
     "output_type": "stream",
     "text": [
      "Epoch 0: Loss 1.7639, Accuracy 57.23%\n",
      "Model saved to models\\cifar10\\ResNet18\\best_model.npz\n"
     ]
    },
    {
     "name": "stderr",
     "output_type": "stream",
     "text": [
      "   [train-1]: 100%|██████████| 782/782 [50:17<00:00,  3.86s/it]  \n",
      "   [valid-1]: 100%|██████████| 200/200 [00:45<00:00,  4.42it/s]\n"
     ]
    },
    {
     "name": "stdout",
     "output_type": "stream",
     "text": [
      "Epoch 1: Loss 1.5253, Accuracy 64.56%\n",
      "Model saved to models\\cifar10\\ResNet18\\best_model.npz\n"
     ]
    },
    {
     "name": "stderr",
     "output_type": "stream",
     "text": [
      "   [train-2]: 100%|██████████| 782/782 [29:20<00:00,  2.25s/it]\n",
      "   [valid-2]: 100%|██████████| 200/200 [02:41<00:00,  1.24it/s]\n"
     ]
    },
    {
     "name": "stdout",
     "output_type": "stream",
     "text": [
      "Epoch 2: Loss 1.3502, Accuracy 74.44%\n",
      "Model saved to models\\cifar10\\ResNet18\\best_model.npz\n"
     ]
    },
    {
     "name": "stderr",
     "output_type": "stream",
     "text": [
      "   [train-3]: 100%|██████████| 782/782 [26:17<00:00,  2.02s/it]\n",
      "   [valid-3]: 100%|██████████| 200/200 [01:35<00:00,  2.09it/s]\n"
     ]
    },
    {
     "name": "stdout",
     "output_type": "stream",
     "text": [
      "Epoch 3: Loss 1.2005, Accuracy 76.21%\n",
      "Model saved to models\\cifar10\\ResNet18\\best_model.npz\n"
     ]
    },
    {
     "name": "stderr",
     "output_type": "stream",
     "text": [
      "   [train-4]: 100%|██████████| 782/782 [26:07<00:00,  2.00s/it]\n",
      "   [valid-4]: 100%|██████████| 200/200 [02:56<00:00,  1.13it/s]\n"
     ]
    },
    {
     "name": "stdout",
     "output_type": "stream",
     "text": [
      "Epoch 4: Loss 1.0935, Accuracy 79.12%\n",
      "Model saved to models\\cifar10\\ResNet18\\best_model.npz\n"
     ]
    },
    {
     "name": "stderr",
     "output_type": "stream",
     "text": [
      "   [train-5]: 100%|██████████| 782/782 [44:10<00:00,  3.39s/it]\n",
      "   [valid-5]: 100%|██████████| 200/200 [02:17<00:00,  1.46it/s]\n"
     ]
    },
    {
     "name": "stdout",
     "output_type": "stream",
     "text": [
      "Epoch 5: Loss 1.0146, Accuracy 59.53%\n"
     ]
    },
    {
     "name": "stderr",
     "output_type": "stream",
     "text": [
      "   [train-6]: 100%|██████████| 782/782 [43:17<00:00,  3.32s/it]\n",
      "   [valid-6]: 100%|██████████| 200/200 [00:26<00:00,  7.47it/s]\n"
     ]
    },
    {
     "name": "stdout",
     "output_type": "stream",
     "text": [
      "Epoch 6: Loss 0.9515, Accuracy 77.26%\n"
     ]
    },
    {
     "name": "stderr",
     "output_type": "stream",
     "text": [
      "   [train-7]: 100%|██████████| 782/782 [15:37<00:00,  1.20s/it]\n",
      "   [valid-7]: 100%|██████████| 200/200 [00:26<00:00,  7.62it/s]\n"
     ]
    },
    {
     "name": "stdout",
     "output_type": "stream",
     "text": [
      "Epoch 7: Loss 0.9025, Accuracy 81.77%\n",
      "Model saved to models\\cifar10\\ResNet18\\best_model.npz\n"
     ]
    },
    {
     "name": "stderr",
     "output_type": "stream",
     "text": [
      "   [train-8]: 100%|██████████| 782/782 [23:40<00:00,  1.82s/it]\n",
      "   [valid-8]: 100%|██████████| 200/200 [02:39<00:00,  1.25it/s]\n"
     ]
    },
    {
     "name": "stdout",
     "output_type": "stream",
     "text": [
      "Epoch 8: Loss 0.8695, Accuracy 83.94%\n",
      "Model saved to models\\cifar10\\ResNet18\\best_model.npz\n"
     ]
    },
    {
     "name": "stderr",
     "output_type": "stream",
     "text": [
      "   [train-9]: 100%|██████████| 782/782 [19:06<00:00,  1.47s/it]\n",
      "   [valid-9]: 100%|██████████| 200/200 [00:26<00:00,  7.59it/s]\n"
     ]
    },
    {
     "name": "stdout",
     "output_type": "stream",
     "text": [
      "Epoch 9: Loss 0.8311, Accuracy 81.03%\n"
     ]
    },
    {
     "name": "stderr",
     "output_type": "stream",
     "text": [
      "   [train-10]: 100%|██████████| 782/782 [11:18<00:00,  1.15it/s]\n",
      "   [valid-10]: 100%|██████████| 200/200 [00:25<00:00,  7.89it/s]\n"
     ]
    },
    {
     "name": "stdout",
     "output_type": "stream",
     "text": [
      "Epoch 10: Loss 0.8023, Accuracy 79.26%\n"
     ]
    },
    {
     "name": "stderr",
     "output_type": "stream",
     "text": [
      "   [train-11]: 100%|██████████| 782/782 [08:33<00:00,  1.52it/s]\n",
      "   [valid-11]: 100%|██████████| 200/200 [00:25<00:00,  7.94it/s]\n"
     ]
    },
    {
     "name": "stdout",
     "output_type": "stream",
     "text": [
      "Epoch 11: Loss 0.7854, Accuracy 83.56%\n"
     ]
    },
    {
     "name": "stderr",
     "output_type": "stream",
     "text": [
      "   [train-12]: 100%|██████████| 782/782 [08:34<00:00,  1.52it/s]\n",
      "   [valid-12]: 100%|██████████| 200/200 [00:25<00:00,  7.89it/s]\n"
     ]
    },
    {
     "name": "stdout",
     "output_type": "stream",
     "text": [
      "Epoch 12: Loss 0.7814, Accuracy 84.24%\n",
      "Model saved to models\\cifar10\\ResNet18\\best_model.npz\n"
     ]
    },
    {
     "name": "stderr",
     "output_type": "stream",
     "text": [
      "   [train-13]: 100%|██████████| 782/782 [08:35<00:00,  1.52it/s]\n",
      "   [valid-13]: 100%|██████████| 200/200 [00:25<00:00,  7.95it/s]\n"
     ]
    },
    {
     "name": "stdout",
     "output_type": "stream",
     "text": [
      "Epoch 13: Loss 0.7595, Accuracy 82.76%\n"
     ]
    },
    {
     "name": "stderr",
     "output_type": "stream",
     "text": [
      "   [train-14]: 100%|██████████| 782/782 [08:40<00:00,  1.50it/s]\n",
      "   [valid-14]: 100%|██████████| 200/200 [00:25<00:00,  7.87it/s]\n"
     ]
    },
    {
     "name": "stdout",
     "output_type": "stream",
     "text": [
      "Epoch 14: Loss 0.7584, Accuracy 76.06%\n"
     ]
    },
    {
     "name": "stderr",
     "output_type": "stream",
     "text": [
      "   [train-15]: 100%|██████████| 782/782 [08:35<00:00,  1.52it/s]\n",
      "   [valid-15]: 100%|██████████| 200/200 [00:25<00:00,  7.81it/s]\n"
     ]
    },
    {
     "name": "stdout",
     "output_type": "stream",
     "text": [
      "Epoch 15: Loss 0.7429, Accuracy 83.25%\n"
     ]
    },
    {
     "name": "stderr",
     "output_type": "stream",
     "text": [
      "   [train-16]: 100%|██████████| 782/782 [08:39<00:00,  1.51it/s]\n",
      "   [valid-16]: 100%|██████████| 200/200 [00:26<00:00,  7.67it/s]\n"
     ]
    },
    {
     "name": "stdout",
     "output_type": "stream",
     "text": [
      "Epoch 16: Loss 0.7308, Accuracy 86.61%\n",
      "Model saved to models\\cifar10\\ResNet18\\best_model.npz\n"
     ]
    },
    {
     "name": "stderr",
     "output_type": "stream",
     "text": [
      "   [train-17]: 100%|██████████| 782/782 [08:37<00:00,  1.51it/s]\n",
      "   [valid-17]: 100%|██████████| 200/200 [00:26<00:00,  7.53it/s]\n"
     ]
    },
    {
     "name": "stdout",
     "output_type": "stream",
     "text": [
      "Epoch 17: Loss 0.7277, Accuracy 83.60%\n"
     ]
    },
    {
     "name": "stderr",
     "output_type": "stream",
     "text": [
      "   [train-18]: 100%|██████████| 782/782 [08:42<00:00,  1.50it/s]\n",
      "   [valid-18]: 100%|██████████| 200/200 [00:26<00:00,  7.65it/s]\n"
     ]
    },
    {
     "name": "stdout",
     "output_type": "stream",
     "text": [
      "Epoch 18: Loss 0.7240, Accuracy 84.00%\n"
     ]
    },
    {
     "name": "stderr",
     "output_type": "stream",
     "text": [
      "   [train-19]: 100%|██████████| 782/782 [11:41<00:00,  1.12it/s]\n",
      "   [valid-19]: 100%|██████████| 200/200 [00:26<00:00,  7.64it/s]\n"
     ]
    },
    {
     "name": "stdout",
     "output_type": "stream",
     "text": [
      "Epoch 19: Loss 0.7167, Accuracy 86.48%\n"
     ]
    },
    {
     "name": "stderr",
     "output_type": "stream",
     "text": [
      "   [train-20]: 100%|██████████| 782/782 [08:32<00:00,  1.53it/s]\n",
      "   [valid-20]: 100%|██████████| 200/200 [00:25<00:00,  7.96it/s]\n"
     ]
    },
    {
     "name": "stdout",
     "output_type": "stream",
     "text": [
      "Epoch 20: Loss 0.7112, Accuracy 82.06%\n"
     ]
    },
    {
     "name": "stderr",
     "output_type": "stream",
     "text": [
      "   [train-21]: 100%|██████████| 782/782 [08:37<00:00,  1.51it/s]\n",
      "   [valid-21]: 100%|██████████| 200/200 [00:25<00:00,  7.71it/s]\n"
     ]
    },
    {
     "name": "stdout",
     "output_type": "stream",
     "text": [
      "Epoch 21: Loss 0.7166, Accuracy 85.08%\n"
     ]
    },
    {
     "name": "stderr",
     "output_type": "stream",
     "text": [
      "   [train-22]: 100%|██████████| 782/782 [08:33<00:00,  1.52it/s]\n",
      "   [valid-22]: 100%|██████████| 200/200 [00:26<00:00,  7.67it/s]\n"
     ]
    },
    {
     "name": "stdout",
     "output_type": "stream",
     "text": [
      "Epoch 22: Loss 0.7094, Accuracy 84.95%\n"
     ]
    },
    {
     "name": "stderr",
     "output_type": "stream",
     "text": [
      "   [train-23]: 100%|██████████| 782/782 [08:38<00:00,  1.51it/s]\n",
      "   [valid-23]: 100%|██████████| 200/200 [00:25<00:00,  8.00it/s]\n"
     ]
    },
    {
     "name": "stdout",
     "output_type": "stream",
     "text": [
      "Epoch 23: Loss 0.7122, Accuracy 85.63%\n"
     ]
    },
    {
     "name": "stderr",
     "output_type": "stream",
     "text": [
      "   [train-24]: 100%|██████████| 782/782 [08:36<00:00,  1.51it/s]\n",
      "   [valid-24]: 100%|██████████| 200/200 [00:25<00:00,  7.90it/s]\n"
     ]
    },
    {
     "name": "stdout",
     "output_type": "stream",
     "text": [
      "Epoch 24: Loss 0.7021, Accuracy 87.47%\n",
      "Model saved to models\\cifar10\\ResNet18\\best_model.npz\n"
     ]
    },
    {
     "name": "stderr",
     "output_type": "stream",
     "text": [
      "   [train-25]: 100%|██████████| 782/782 [08:37<00:00,  1.51it/s]\n",
      "   [valid-25]: 100%|██████████| 200/200 [00:24<00:00,  8.04it/s]\n"
     ]
    },
    {
     "name": "stdout",
     "output_type": "stream",
     "text": [
      "Epoch 25: Loss 0.7026, Accuracy 84.87%\n"
     ]
    },
    {
     "name": "stderr",
     "output_type": "stream",
     "text": [
      "   [train-26]: 100%|██████████| 782/782 [08:36<00:00,  1.51it/s]\n",
      "   [valid-26]: 100%|██████████| 200/200 [00:25<00:00,  7.95it/s]\n"
     ]
    },
    {
     "name": "stdout",
     "output_type": "stream",
     "text": [
      "Epoch 26: Loss 0.7094, Accuracy 87.40%\n"
     ]
    },
    {
     "name": "stderr",
     "output_type": "stream",
     "text": [
      "   [train-27]: 100%|██████████| 782/782 [08:39<00:00,  1.51it/s]\n",
      "   [valid-27]: 100%|██████████| 200/200 [00:24<00:00,  8.00it/s]\n"
     ]
    },
    {
     "name": "stdout",
     "output_type": "stream",
     "text": [
      "Epoch 27: Loss 0.7004, Accuracy 82.81%\n"
     ]
    },
    {
     "name": "stderr",
     "output_type": "stream",
     "text": [
      "   [train-28]: 100%|██████████| 782/782 [08:33<00:00,  1.52it/s]\n",
      "   [valid-28]: 100%|██████████| 200/200 [00:25<00:00,  7.97it/s]\n"
     ]
    },
    {
     "name": "stdout",
     "output_type": "stream",
     "text": [
      "Epoch 28: Loss 0.7085, Accuracy 86.92%\n"
     ]
    },
    {
     "name": "stderr",
     "output_type": "stream",
     "text": [
      "   [train-29]: 100%|██████████| 782/782 [08:36<00:00,  1.51it/s]\n",
      "   [valid-29]: 100%|██████████| 200/200 [00:25<00:00,  7.95it/s]\n"
     ]
    },
    {
     "name": "stdout",
     "output_type": "stream",
     "text": [
      "Epoch 29: Loss 0.7056, Accuracy 86.15%\n"
     ]
    },
    {
     "name": "stderr",
     "output_type": "stream",
     "text": [
      "   [train-30]: 100%|██████████| 782/782 [08:40<00:00,  1.50it/s]\n",
      "   [valid-30]: 100%|██████████| 200/200 [00:25<00:00,  7.95it/s]\n"
     ]
    },
    {
     "name": "stdout",
     "output_type": "stream",
     "text": [
      "Epoch 30: Loss 0.6974, Accuracy 86.51%\n"
     ]
    },
    {
     "name": "stderr",
     "output_type": "stream",
     "text": [
      "   [train-31]: 100%|██████████| 782/782 [08:37<00:00,  1.51it/s]\n",
      "   [valid-31]: 100%|██████████| 200/200 [00:25<00:00,  7.94it/s]\n"
     ]
    },
    {
     "name": "stdout",
     "output_type": "stream",
     "text": [
      "Epoch 31: Loss 0.6960, Accuracy 83.72%\n"
     ]
    },
    {
     "name": "stderr",
     "output_type": "stream",
     "text": [
      "   [train-32]: 100%|██████████| 782/782 [08:39<00:00,  1.51it/s]\n",
      "   [valid-32]: 100%|██████████| 200/200 [00:25<00:00,  7.89it/s]\n"
     ]
    },
    {
     "name": "stdout",
     "output_type": "stream",
     "text": [
      "Epoch 32: Loss 0.7016, Accuracy 85.93%\n"
     ]
    },
    {
     "name": "stderr",
     "output_type": "stream",
     "text": [
      "   [train-33]:  79%|███████▉  | 616/782 [06:48<01:50,  1.51it/s]\n"
     ]
    },
    {
     "ename": "KeyboardInterrupt",
     "evalue": "",
     "output_type": "error",
     "traceback": [
      "\u001b[1;31m---------------------------------------------------------------------------\u001b[0m",
      "\u001b[1;31mKeyboardInterrupt\u001b[0m                         Traceback (most recent call last)",
      "Cell \u001b[1;32mIn[37], line 23\u001b[0m\n\u001b[0;32m     20\u001b[0m     learning_rate \u001b[38;5;241m*\u001b[39m\u001b[38;5;241m=\u001b[39m sched_ratio\n\u001b[0;32m     21\u001b[0m     \u001b[38;5;28mprint\u001b[39m(\u001b[38;5;124mf\u001b[39m\u001b[38;5;124m'\u001b[39m\u001b[38;5;124mUpdated learning rate: \u001b[39m\u001b[38;5;132;01m{\u001b[39;00mlearning_rate\u001b[38;5;132;01m:\u001b[39;00m\u001b[38;5;124m.4f\u001b[39m\u001b[38;5;132;01m}\u001b[39;00m\u001b[38;5;124m'\u001b[39m)\n\u001b[1;32m---> 23\u001b[0m train_loss \u001b[38;5;241m=\u001b[39m \u001b[43mtrain\u001b[49m\u001b[43m(\u001b[49m\u001b[43mepoch\u001b[49m\u001b[43m,\u001b[49m\u001b[43m \u001b[49m\u001b[43mX_train\u001b[49m\u001b[43m,\u001b[49m\u001b[43m \u001b[49m\u001b[43mY_train\u001b[49m\u001b[43m,\u001b[49m\u001b[43m \u001b[49m\u001b[43mnum_batches\u001b[49m\u001b[43m,\u001b[49m\u001b[43m \u001b[49m\u001b[43mtrain_op\u001b[49m\u001b[43m,\u001b[49m\u001b[43m \u001b[49m\u001b[43mlearning_rate\u001b[49m\u001b[43m,\u001b[49m\u001b[43m \u001b[49m\u001b[43maugment\u001b[49m\u001b[38;5;241;43m=\u001b[39;49m\u001b[43mdo_augmentation\u001b[49m\u001b[43m)\u001b[49m\n\u001b[0;32m     24\u001b[0m test_batch \u001b[38;5;241m=\u001b[39m load_test_batch(dataset)\n\u001b[0;32m     25\u001b[0m test_acc \u001b[38;5;241m=\u001b[39m valid(epoch, X_test, Y_test, test_batch, objax\u001b[38;5;241m.\u001b[39mJit(\u001b[38;5;28;01mlambda\u001b[39;00m x: model(x, training\u001b[38;5;241m=\u001b[39m\u001b[38;5;28;01mFalse\u001b[39;00m), train_vars))\n",
      "File \u001b[1;32mc:\\Users\\oumni\\PycharmProjects\\ift6164\\Handcrafted-Backdoors-in-Deep-Neural-Networks-Implementation\\utils\\learner.py:48\u001b[0m, in \u001b[0;36mtrain\u001b[1;34m(epoch, x_train, y_train, batch_size, trainop, lr, noise, augment)\u001b[0m\n\u001b[0;32m     45\u001b[0m     \u001b[38;5;28;01mif\u001b[39;00m augment: x_batch \u001b[38;5;241m=\u001b[39m augment(x_batch)\n\u001b[0;32m     47\u001b[0m     \u001b[38;5;66;03m# : update the network w. labels\u001b[39;00m\n\u001b[1;32m---> 48\u001b[0m     tot_loss\u001b[38;5;241m.\u001b[39mappend(\u001b[43mtrainop\u001b[49m\u001b[43m(\u001b[49m\u001b[43mx_batch\u001b[49m\u001b[43m,\u001b[49m\u001b[43m \u001b[49m\u001b[43my_batch\u001b[49m\u001b[43m,\u001b[49m\u001b[43m \u001b[49m\u001b[43mlr\u001b[49m\u001b[43m)\u001b[49m)\n\u001b[0;32m     50\u001b[0m \u001b[38;5;28;01mreturn\u001b[39;00m np\u001b[38;5;241m.\u001b[39mmean(tot_loss)\n",
      "File \u001b[1;32mc:\\Users\\oumni\\PycharmProjects\\ift6164\\Handcrafted-Backdoors-in-Deep-Neural-Networks-Implementation\\venv\\Lib\\site-packages\\objax\\module.py:257\u001b[0m, in \u001b[0;36mJit.__call__\u001b[1;34m(self, *args, **kwargs)\u001b[0m\n\u001b[0;32m    255\u001b[0m \u001b[38;5;28;01mdef\u001b[39;00m\u001b[38;5;250m \u001b[39m\u001b[38;5;21m__call__\u001b[39m(\u001b[38;5;28mself\u001b[39m, \u001b[38;5;241m*\u001b[39margs, \u001b[38;5;241m*\u001b[39m\u001b[38;5;241m*\u001b[39mkwargs):\n\u001b[0;32m    256\u001b[0m \u001b[38;5;250m    \u001b[39m\u001b[38;5;124;03m\"\"\"Call the compiled version of the function or module.\"\"\"\u001b[39;00m\n\u001b[1;32m--> 257\u001b[0m     output, changes \u001b[38;5;241m=\u001b[39m \u001b[38;5;28;43mself\u001b[39;49m\u001b[38;5;241;43m.\u001b[39;49m\u001b[43m_call\u001b[49m\u001b[43m(\u001b[49m\u001b[38;5;28;43mself\u001b[39;49m\u001b[38;5;241;43m.\u001b[39;49m\u001b[43mvc\u001b[49m\u001b[38;5;241;43m.\u001b[39;49m\u001b[43mtensors\u001b[49m\u001b[43m(\u001b[49m\u001b[43m)\u001b[49m\u001b[43m,\u001b[49m\u001b[43m \u001b[49m\u001b[43mkwargs\u001b[49m\u001b[43m,\u001b[49m\u001b[43m \u001b[49m\u001b[38;5;241;43m*\u001b[39;49m\u001b[43margs\u001b[49m\u001b[43m)\u001b[49m\n\u001b[0;32m    258\u001b[0m     \u001b[38;5;28mself\u001b[39m\u001b[38;5;241m.\u001b[39mvc\u001b[38;5;241m.\u001b[39massign(changes)\n\u001b[0;32m    259\u001b[0m     \u001b[38;5;28;01mreturn\u001b[39;00m output\n",
      "\u001b[1;31mKeyboardInterrupt\u001b[0m: "
     ]
    }
   ],
   "source": [
    "gv = objax.GradValues(loss, train_vars)\n",
    "opt = make_optimizer(train_vars, optimizer_type)\n",
    "print(f'Using optimizer: {optimizer_type}')\n",
    "\n",
    "# Define training operation\n",
    "def train_op(x, y, lr):\n",
    "    g, v = gv(x, y)\n",
    "    opt(lr=lr, grads=g)\n",
    "    return v\n",
    "\n",
    "train_op = objax.Jit(train_op, gv.vars() + opt.vars())\n",
    "\n",
    "# Training Loop\n",
    "best_acc = 0.\n",
    "storefile = os.path.join('models', dataset, network, 'best_model.npz')\n",
    "os.makedirs(os.path.dirname(storefile), exist_ok=True)  # Ensure directory exists\n",
    "\n",
    "for epoch in range(num_epochs):\n",
    "    if epoch in schedule_lr:\n",
    "        learning_rate *= sched_ratio\n",
    "        print(f'Updated learning rate: {learning_rate:.4f}')\n",
    "    \n",
    "    train_loss = train(epoch, X_train, Y_train, num_batches, train_op, learning_rate, augment=do_augmentation)\n",
    "    test_batch = load_test_batch(dataset)\n",
    "    test_acc = valid(epoch, X_test, Y_test, test_batch, objax.Jit(lambda x: model(x, training=False), train_vars))\n",
    "    \n",
    "    print(f'Epoch {epoch}: Loss {train_loss:.4f}, Accuracy {test_acc:.2f}%')\n",
    "    \n",
    "    if test_acc > best_acc:\n",
    "        best_acc = test_acc\n",
    "        os.makedirs(os.path.dirname(storefile), exist_ok=True)  # Ensure directory exists before saving\n",
    "        if os.path.exists(storefile):  # Ensure no conflicting existing temp file\n",
    "            os.remove(storefile)\n",
    "        save_network_parameters(model, storefile)\n",
    "        print(f'Model saved to {storefile}')\n",
    "\n",
    "print('Training completed.')\n"
   ]
  },
  {
   "cell_type": "code",
   "execution_count": 9,
   "metadata": {},
   "outputs": [
    {
     "name": "stdout",
     "output_type": "stream",
     "text": [
      "Starting Validation Phase...\n",
      "Validation dataset loaded for cifar10\n",
      "Best trained model loaded from models\\cifar10\\ResNet18\\best_model.npz\n"
     ]
    },
    {
     "name": "stderr",
     "output_type": "stream",
     "text": [
      "   [valid-Validation]: 100%|██████████| 157/157 [00:25<00:00,  6.27it/s]"
     ]
    },
    {
     "name": "stdout",
     "output_type": "stream",
     "text": [
      "Validation Accuracy: 87.47%\n",
      "Validation Phase Completed.\n"
     ]
    },
    {
     "name": "stderr",
     "output_type": "stream",
     "text": [
      "\n"
     ]
    }
   ],
   "source": [
    "# Validation Phase\n",
    "print(\"Starting Validation Phase...\")\n",
    "(x_train, y_train), (x_valid, y_valid) = load_dataset(dataset)\n",
    "print(f'Validation dataset loaded for {dataset}')\n",
    "\n",
    "# Manually re import my best model saved in the path to not restart my training\n",
    "storefile = os.path.join('models', dataset, network, 'best_model.npz')\n",
    "# Load best model\n",
    "model = load_network_parameters(model, storefile)\n",
    "print(f'Best trained model loaded from {storefile}')\n",
    "\n",
    "\n",
    "\n",
    "\n",
    "# Run validation\n",
    "test_batch = load_test_batch(dataset)\n",
    "valid_acc = valid('Validation', x_valid, y_valid, num_batches, objax.Jit(lambda x: model(x, training=False), train_vars))\n",
    "print(f'Validation Accuracy: {valid_acc:.2f}%')\n",
    "print('Validation Phase Completed.')\n"
   ]
  },
  {
   "cell_type": "markdown",
   "metadata": {},
   "source": [
    "### **Backdoor Attack Implementation**\n",
    "This section introduces a backdoor attack by modifying a portion of the dataset with a predefined pattern.\n"
   ]
  },
  {
   "cell_type": "code",
   "execution_count": 10,
   "metadata": {},
   "outputs": [
    {
     "name": "stdout",
     "output_type": "stream",
     "text": [
      "Starting Handcrafted Backdoor Attack Phase...\n",
      "Backdoor dataset created.\n"
     ]
    }
   ],
   "source": [
    "# Handcrafted Backdoor Attack Phase\n",
    "print(\"Starting Handcrafted Backdoor Attack Phase...\")\n",
    "X_bdoor = blend_backdoor(np.copy(x_valid), dataset=dataset, network=network, shape='checkerboard', size=8, intensity=1.0)\n",
    "Y_bdoor = np.copy(y_valid)\n",
    "print('Backdoor dataset created.')\n"
   ]
  },
  {
   "cell_type": "code",
   "execution_count": 11,
   "metadata": {},
   "outputs": [
    {
     "data": {
      "image/png": "[encoded data removed]",
      "text/plain": [
       "<Figure size 1000x400 with 10 Axes>"
      ]
     },
     "metadata": {},
     "output_type": "display_data"
    }
   ],
   "source": [
    "# Visualize some samples before and after crafting\n",
    "fig, axes = plt.subplots(2, 5, figsize=(10, 4))\n",
    "for i in range(5):\n",
    "    axes[0, i].imshow(x_valid[i].transpose(1, 2, 0))\n",
    "    axes[0, i].axis('off')\n",
    "    axes[1, i].imshow(X_bdoor[i].transpose(1, 2, 0))\n",
    "    axes[1, i].axis('off')\n",
    "axes[0, 0].set_title(\"Original\")\n",
    "axes[1, 0].set_title(\"Backdoor\")\n",
    "plt.show()"
   ]
  },
  {
   "cell_type": "code",
   "execution_count": 12,
   "metadata": {},
   "outputs": [
    {
     "name": "stderr",
     "output_type": "stream",
     "text": [
      "   [valid-Backdoor]: 100%|██████████| 157/157 [00:25<00:00,  6.23it/s]"
     ]
    },
    {
     "name": "stdout",
     "output_type": "stream",
     "text": [
      "Backdoor Attack Accuracy: 80.24%\n",
      "Handcrafted Backdoor Attack Phase Completed.\n"
     ]
    },
    {
     "name": "stderr",
     "output_type": "stream",
     "text": [
      "\n"
     ]
    }
   ],
   "source": [
    "# Evaluate backdoor attack success\n",
    "bdoor_acc = valid('Backdoor', X_bdoor, Y_bdoor, num_batches, objax.Jit(lambda x: model(x, training=False), train_vars))\n",
    "print(f'Backdoor Attack Accuracy: {bdoor_acc:.2f}%')\n",
    "print('Handcrafted Backdoor Attack Phase Completed.')"
   ]
  },
  {
   "cell_type": "code",
   "execution_count": null,
   "metadata": {},
   "outputs": [],
   "source": []
  },
  {
   "cell_type": "code",
   "execution_count": null,
   "metadata": {},
   "outputs": [],
   "source": []
  }
 ],
 "metadata": {
  "kernelspec": {
   "display_name": "venv",
   "language": "python",
   "name": "python3"
  },
  "language_info": {
   "codemirror_mode": {
    "name": "ipython",
    "version": 3
   },
   "file_extension": ".py",
   "mimetype": "text/x-python",
   "name": "python",
   "nbconvert_exporter": "python",
   "pygments_lexer": "ipython3",
   "version": "3.12.3"
  }
 },
 "nbformat": 4,
 "nbformat_minor": 2
}
